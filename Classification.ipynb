{
 "cells": [
  {
   "cell_type": "markdown",
   "metadata": {},
   "source": [
    "#### The first question I was trying to answer in my capstone project was: Predict whether or not someone is injured in a collision. For this classification task Im using random forest because its simple and fast to use. Ive tried to predict injuries and kills but kills in my projects were too random to predict."
   ]
  },
  {
   "cell_type": "code",
   "execution_count": 1,
   "metadata": {},
   "outputs": [],
   "source": [
    "import numpy as np\n",
    "import pandas as pd\n",
    "import seaborn as sns\n",
    "import matplotlib.pyplot as plt\n",
    "\n",
    "from matplotlib.pyplot import figure\n",
    "from sklearn.ensemble import RandomForestClassifier\n",
    "from sklearn.multiclass import OneVsRestClassifier\n",
    "\n",
    "from sklearn.metrics import confusion_matrix\n",
    "from sklearn.metrics import roc_curve, auc\n",
    "\n",
    "from sklearn.model_selection import train_test_split\n",
    "from sklearn.externals import joblib\n"
   ]
  },
  {
   "cell_type": "code",
   "execution_count": 2,
   "metadata": {},
   "outputs": [],
   "source": [
    "# Loading clean data\n",
    "\n",
    "Data_merg = pd.read_csv(\"collisions_merge.csv\",low_memory=False)"
   ]
  },
  {
   "cell_type": "code",
   "execution_count": 3,
   "metadata": {},
   "outputs": [],
   "source": [
    "# Kills are too random to predict \n",
    "\n",
    "Data_merg['TOTAL'] = Data_merg['TOTAL INJURED']+ Data_merg['TOTAL KILLED']"
   ]
  },
  {
   "cell_type": "code",
   "execution_count": 4,
   "metadata": {},
   "outputs": [
    {
     "name": "stderr",
     "output_type": "stream",
     "text": [
      "C:\\ProgramData\\Miniconda3\\lib\\site-packages\\ipykernel_launcher.py:15: SettingWithCopyWarning: \n",
      "A value is trying to be set on a copy of a slice from a DataFrame\n",
      "\n",
      "See the caveats in the documentation: http://pandas.pydata.org/pandas-docs/stable/indexing.html#indexing-view-versus-copy\n",
      "  from ipykernel import kernelapp as app\n"
     ]
    }
   ],
   "source": [
    "# spliting my data \n",
    "\n",
    "x = Data_merg[['YEAR', 'MONTH', 'DAY', 'TIME', 'LATITUDE', 'LONGITUDE',\n",
    "                       'season','Events', 'CloudCover','PrecipitationIn',\n",
    "                       'Max.TemperatureF', 'Mean.TemperatureF', 'Min.TemperatureF',\n",
    "                       'Max.Dew.PointF', 'MeanDew.PointF', 'Min.DewpointF', 'Max.Humidity',\n",
    "                       'Mean.Humidity', 'Min.Humidity', 'Max.VisibilityMiles',\n",
    "                       'Mean.VisibilityMiles', 'Min.VisibilityMiles', 'Max.Wind.SpeedMPH',\n",
    "                       'Mean.Wind.SpeedMPH', 'Max.Gust.SpeedMPH','CONTR FACTOR VEHICLE 1',\n",
    "                       'CONTR FACTOR VEHICLE 2', 'VEHICLE TYPE CODE 1', 'VEHICLE TYPE CODE 2',\n",
    "              ]]\n",
    "\n",
    "y = Data_merg['TOTAL']\n",
    "\n",
    "y[y>1] = 1"
   ]
  },
  {
   "cell_type": "code",
   "execution_count": 5,
   "metadata": {},
   "outputs": [],
   "source": [
    "# encoding my categorical data and creating my train, test sets\n",
    "\n",
    "x_dummy = pd.get_dummies(x)\n",
    "\n",
    "x_train, x_test, y_train, y_test = train_test_split(x_dummy, y, test_size=0.3, stratify=y)"
   ]
  },
  {
   "cell_type": "code",
   "execution_count": 6,
   "metadata": {},
   "outputs": [
    {
     "name": "stderr",
     "output_type": "stream",
     "text": [
      "C:\\ProgramData\\Miniconda3\\lib\\site-packages\\sklearn\\ensemble\\forest.py:248: FutureWarning: The default value of n_estimators will change from 10 in version 0.20 to 100 in 0.22.\n",
      "  \"10 in version 0.20 to 100 in 0.22.\", FutureWarning)\n"
     ]
    },
    {
     "data": {
      "text/plain": [
       "RandomForestClassifier(bootstrap=True, class_weight='balanced',\n",
       "            criterion='gini', max_depth=None, max_features='auto',\n",
       "            max_leaf_nodes=None, min_impurity_decrease=0.0,\n",
       "            min_impurity_split=None, min_samples_leaf=1,\n",
       "            min_samples_split=2, min_weight_fraction_leaf=0.0,\n",
       "            n_estimators=10, n_jobs=-1, oob_score=False, random_state=None,\n",
       "            verbose=0, warm_start=False)"
      ]
     },
     "execution_count": 6,
     "metadata": {},
     "output_type": "execute_result"
    }
   ],
   "source": [
    "# Classification  \n",
    "\n",
    "random_forest_c1 = RandomForestClassifier(n_jobs=-1,class_weight='balanced')\n",
    "random_forest_c1.fit(x_train, y_train)\n"
   ]
  },
  {
   "cell_type": "code",
   "execution_count": 7,
   "metadata": {},
   "outputs": [
    {
     "data": {
      "image/png": "[encoded data removed]",
      "text/plain": [
       "<Figure size 432x288 with 2 Axes>"
      ]
     },
     "metadata": {
      "needs_background": "light"
     },
     "output_type": "display_data"
    },
    {
     "name": "stdout",
     "output_type": "stream",
     "text": [
      "The Train classification accuracy is: 98.843\n",
      "The Test classification accuracy is: 92.183\n"
     ]
    }
   ],
   "source": [
    "# Confusion matrix with classes \n",
    "confusion = confusion_matrix(y_test, random_forest_c1.predict(x_test))\n",
    "sns.heatmap(confusion, annot=True, fmt=\"g\", cmap='viridis')\n",
    "plt.show()\n",
    "\n",
    "print(\"The Train classification accuracy is: %3.3f\" % (100 * random_forest_c1.score(x_train,y_train)))\n",
    "print(\"The Test classification accuracy is: %3.3f\" % (100 * random_forest_c1.score(x_test,y_test)))"
   ]
  },
  {
   "cell_type": "code",
   "execution_count": 8,
   "metadata": {},
   "outputs": [
    {
     "data": {
      "image/png": "[encoded data removed]",
      "text/plain": [
       "<Figure size 432x288 with 1 Axes>"
      ]
     },
     "metadata": {
      "needs_background": "light"
     },
     "output_type": "display_data"
    },
    {
     "name": "stdout",
     "output_type": "stream",
     "text": [
      "AUC score: 0.888\n"
     ]
    }
   ],
   "source": [
    "# ROC curve\n",
    "classifier = OneVsRestClassifier(RandomForestClassifier(class_weight='balanced'), n_jobs=-1)\n",
    "probs = classifier.fit(x_train, y_train).predict_proba(x_test)\n",
    "fpr, tpr, _ = roc_curve(y_test, probs[:, 1])\n",
    "roc_auc = auc(fpr, tpr)\n",
    "  \n",
    "\n",
    "plt.figure()\n",
    "\n",
    "plt.plot(fpr, tpr, color='darkorange',\n",
    "         lw=1, label='AUC = %0.2f' % roc_auc)\n",
    "plt.plot([0, 1], [0, 1], color='navy', lw=1, linestyle='--')\n",
    "plt.xlabel('False Positive Rate')\n",
    "plt.ylabel('True Positive Rate')\n",
    "plt.title('ROC')\n",
    "plt.legend(loc=\"best\")\n",
    "plt.show()\n",
    "print(\"AUC score: %3.3f\" % roc_auc)"
   ]
  },
  {
   "cell_type": "code",
   "execution_count": 9,
   "metadata": {},
   "outputs": [],
   "source": [
    "# oversampling unbalanced class\n",
    "\n",
    "from imblearn.over_sampling import SMOTE\n",
    "\n",
    "sm = SMOTE()\n",
    "\n",
    "x_res, y_res = sm.fit_sample(x_train, y_train)\n"
   ]
  },
  {
   "cell_type": "code",
   "execution_count": 10,
   "metadata": {},
   "outputs": [],
   "source": [
    "# # tunning hyper\n",
    "\n",
    "# from sklearn.model_selection import GridSearchCV\n",
    "\n",
    "# model_randforest = GridSearchCV(RandomForestClassifier(class_weight='balanced'),\n",
    "#      param_grid = { \n",
    "#             \"n_estimators\"      : [700,900,1100],\n",
    "#             \"max_features\"      : [\"auto\"],\n",
    "#             \"min_samples_split\" : [2,3],\n",
    "#              \"min_samples_leaf\" : [1,3],\n",
    "#             \"max_depth\" :[20,30,40], \n",
    "#             \"bootstrap\": [True],\n",
    "#             },\n",
    "#     scoring=make_scorer(accuracy_score),\n",
    "#     n_jobs=-1,\n",
    "#     cv=4,\n",
    "#     verbose=6)\n",
    "\n",
    "# model_randforest.fit(x_res, y_res)"
   ]
  },
  {
   "cell_type": "code",
   "execution_count": 11,
   "metadata": {},
   "outputs": [],
   "source": [
    "# loading model\n",
    "\n",
    "model_randforest = joblib.load('random_forest_model.pkl')"
   ]
  },
  {
   "cell_type": "code",
   "execution_count": 12,
   "metadata": {},
   "outputs": [
    {
     "data": {
      "text/plain": [
       "{'bootstrap': True,\n",
       " 'max_depth': 30,\n",
       " 'max_features': 'auto',\n",
       " 'min_samples_leaf': 1,\n",
       " 'min_samples_split': 2,\n",
       " 'n_estimators': 900}"
      ]
     },
     "execution_count": 12,
     "metadata": {},
     "output_type": "execute_result"
    }
   ],
   "source": [
    "model_randforest.best_params_"
   ]
  },
  {
   "cell_type": "code",
   "execution_count": 13,
   "metadata": {},
   "outputs": [],
   "source": [
    "x_val, x_test, y_val, y_test = train_test_split(x_test, y_test, test_size=0.5, stratify=y_test)"
   ]
  },
  {
   "cell_type": "code",
   "execution_count": 14,
   "metadata": {},
   "outputs": [
    {
     "data": {
      "image/png": "[encoded data removed]",
      "text/plain": [
       "<Figure size 432x288 with 2 Axes>"
      ]
     },
     "metadata": {
      "needs_background": "light"
     },
     "output_type": "display_data"
    },
    {
     "name": "stdout",
     "output_type": "stream",
     "text": [
      "The Train classification accuracy is: 95.386\n",
      "The validation classification accuracy is: 94.528\n",
      "The Test classification accuracy is: 94.552\n"
     ]
    }
   ],
   "source": [
    "# Confusion matrix with classes \n",
    "confusion = confusion_matrix(y_test, model_randforest.predict(x_test))\n",
    "sns.heatmap(confusion, annot=True, fmt=\"g\", cmap='viridis')\n",
    "plt.show()\n",
    "\n",
    "print(\"The Train classification accuracy is: %3.3f\" % (100 * model_randforest.score(x_res,y_res)))\n",
    "print(\"The validation classification accuracy is: %3.3f\" % (100 * model_randforest.score(x_val,y_val)))\n",
    "print(\"The Test classification accuracy is: %3.3f\" % (100 * model_randforest.score(x_test,y_test)))"
   ]
  },
  {
   "cell_type": "code",
   "execution_count": 15,
   "metadata": {},
   "outputs": [],
   "source": [
    "# joblib.dump(model_randforest, 'random_forest_model.pkl')"
   ]
  }
 ],
 "metadata": {
  "kernelspec": {
   "display_name": "Python 3",
   "language": "python",
   "name": "python3"
  },
  "language_info": {
   "codemirror_mode": {
    "name": "ipython",
    "version": 3
   },
   "file_extension": ".py",
   "mimetype": "text/x-python",
   "name": "python",
   "nbconvert_exporter": "python",
   "pygments_lexer": "ipython3",
   "version": "3.6.6"
  }
 },
 "nbformat": 4,
 "nbformat_minor": 2
}
